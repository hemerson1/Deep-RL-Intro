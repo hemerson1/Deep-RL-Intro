{
 "cells": [
  {
   "cell_type": "code",
   "execution_count": null,
   "metadata": {},
   "outputs": [],
   "source": [
    "# Extra functions for Policy Gradient"
   ]
  },
  {
   "cell_type": "code",
   "execution_count": 1,
   "metadata": {},
   "outputs": [
    {
     "ename": "SyntaxError",
     "evalue": "invalid syntax (<ipython-input-1-b1737660d070>, line 28)",
     "output_type": "error",
     "traceback": [
      "\u001b[1;36m  File \u001b[1;32m\"<ipython-input-1-b1737660d070>\"\u001b[1;36m, line \u001b[1;32m28\u001b[0m\n\u001b[1;33m    def normalise(x)::\u001b[0m\n\u001b[1;37m                     ^\u001b[0m\n\u001b[1;31mSyntaxError\u001b[0m\u001b[1;31m:\u001b[0m invalid syntax\n"
     ]
    }
   ],
   "source": [
    "import numpy as np\n",
    "from sklearn.preprocessing import StandardScaler\n",
    "\n",
    "# Processing of the state\n",
    "def process_state(inputs):\n",
    "    \n",
    "    # convert dictionary to a list\n",
    "    form_inputs = []        \n",
    "    for key, value in inputs.items():\n",
    "        temp = [value]\n",
    "        form_inputs.append(temp)   \n",
    "    inputs = np.array(form_inputs).reshape(7, 1)\n",
    "    \n",
    "    # Standardise the dataset\n",
    "    # Reshape functions are used to ensure the standardisation takes place on the correct axis\n",
    "    scaler = StandardScaler()\n",
    "    X = scaler.fit_transform(inputs)\n",
    "    \n",
    "    return X\n",
    "\n",
    "def progress_bar(current, total, barLength = 20):\n",
    "    percent = float(current) * 100 / total\n",
    "    arrow   = '-' * int(percent / 100 * barLength - 1) + '>'\n",
    "    spaces  = ' ' * (barLength - len(arrow))\n",
    "\n",
    "    print('Progress: [%s%s] %d %%' % (arrow, spaces, percent), end='\\r')\n",
    "    "
   ]
  }
 ],
 "metadata": {
  "kernelspec": {
   "display_name": "Python 3",
   "language": "python",
   "name": "python3"
  },
  "language_info": {
   "codemirror_mode": {
    "name": "ipython",
    "version": 3
   },
   "file_extension": ".py",
   "mimetype": "text/x-python",
   "name": "python",
   "nbconvert_exporter": "python",
   "pygments_lexer": "ipython3",
   "version": "3.8.5"
  }
 },
 "nbformat": 4,
 "nbformat_minor": 4
}
