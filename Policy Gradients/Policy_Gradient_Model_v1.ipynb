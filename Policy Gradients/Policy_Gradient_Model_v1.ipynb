{
 "cells": [
  {
   "cell_type": "code",
   "execution_count": null,
   "metadata": {},
   "outputs": [],
   "source": [
    "# The Policy gradient model"
   ]
  },
  {
   "cell_type": "code",
   "execution_count": 1,
   "metadata": {},
   "outputs": [
    {
     "name": "stdout",
     "output_type": "stream",
     "text": [
      "importing Jupyter notebook from Utils.ipynb\n"
     ]
    }
   ],
   "source": [
    "import import_ipynb\n",
    "import tensorflow as tf\n",
    "from tensorflow.keras import Model\n",
    "from tensorflow.keras.layers import Dense\n",
    "from tensorflow.keras.optimizers import Adam\n",
    "import tensorflow_probability as tfp\n",
    "import os\n",
    "\n",
    "from Utils import *\n",
    "\n",
    "# Code for this section used the following source for reference: \n",
    "# https://github.com/abhisheksuran/Reinforcement_Learning/blob/master/Reinforce_(PG).ipynb \n",
    "\n",
    "###########\n",
    "#Notes \n",
    "\n",
    "\n",
    "class Model(Model):\n",
    "    \n",
    "    def __init__(self):        \n",
    "        super(Model, self).__init__()\n",
    "        self.d1 = tf.keras.layers.Dense(8, activation='relu')\n",
    "        self.out = Dense(2, activation='softmax')\n",
    "        \n",
    "    def call(self, x):\n",
    "        x = tf.convert_to_tensor(x)\n",
    "        x = self.d1(x)\n",
    "        x = self.out(x)\n",
    "        return x\n",
    "    \n",
    "class agent():\n",
    "    \n",
    "    def __init__(self, lr, gamma):\n",
    "        self.model = Model()\n",
    "        self.opt = Adam(learning_rate=lr)\n",
    "        self.gamma = gamma\n",
    "    \n",
    "    def act(self, state):\n",
    "        prob = self.model(state, training=False)\n",
    "        dist = tfp.distributions.Categorical(probs=prob, dtype=tf.float32)\n",
    "        action = dist.sample()\n",
    "        \n",
    "        return int(action.numpy()[0])\n",
    "    \n",
    "    def a_loss(self, prob, action, reward):\n",
    "        dist = tfp.distributions.Categorical(probs=prob, dtype=tf.float32)\n",
    "        log_prob = dist.log_prob(action)\n",
    "        loss = -log_prob * reward\n",
    "        return loss\n",
    "    \n",
    "    def train(self, states, rewards, actions):\n",
    "        sum_reward = 0\n",
    "        discount_rewards = []\n",
    "        rewards.reverse()\n",
    "        \n",
    "        # for the progress bar\n",
    "        count = 0 \n",
    "    \n",
    "        for r in rewards:\n",
    "            sum_reward = r + self.gamma * sum_reward \n",
    "            discount_rewards.append(sum_reward)\n",
    "        discount_rewards.reverse()\n",
    "        \n",
    "        discount_rewards -= np.mean(discount_rewards)\n",
    "        discount_rewards /= (np.std(discount_rewards) + 1e-7)    \n",
    "        \n",
    "        for state, reward, action in zip(states, discount_rewards, actions):\n",
    "            \n",
    "            progress_bar(count, len(states))\n",
    "            \n",
    "            with tf.GradientTape() as tape:\n",
    "                p = self.model(state, training=True)\n",
    "                loss = self.a_loss(p, action, reward)\n",
    "\n",
    "            grads = tape.gradient(loss, self.model.trainable_variables)\n",
    "            self.opt.apply_gradients(zip(grads, self.model.trainable_variables)) \n",
    "            \n",
    "            count += 1\n",
    "            \n",
    "    def save_model(self, name):\n",
    "        self.model.save_weights(name)\n",
    "        \n",
    "    def load_model(self, name):\n",
    "        if os.path.isfile(name):\n",
    "            print('Model Loaded')\n",
    "            self.model.load_weights(name)\n",
    "    "
   ]
  },
  {
   "cell_type": "code",
   "execution_count": null,
   "metadata": {},
   "outputs": [],
   "source": []
  }
 ],
 "metadata": {
  "kernelspec": {
   "display_name": "Python 3",
   "language": "python",
   "name": "python3"
  },
  "language_info": {
   "codemirror_mode": {
    "name": "ipython",
    "version": 3
   },
   "file_extension": ".py",
   "mimetype": "text/x-python",
   "name": "python",
   "nbconvert_exporter": "python",
   "pygments_lexer": "ipython3",
   "version": "3.8.5"
  }
 },
 "nbformat": 4,
 "nbformat_minor": 4
}
