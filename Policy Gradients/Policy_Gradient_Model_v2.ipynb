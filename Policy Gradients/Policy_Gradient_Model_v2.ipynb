{
 "cells": [
  {
   "cell_type": "code",
   "execution_count": 1,
   "metadata": {},
   "outputs": [
    {
     "name": "stdout",
     "output_type": "stream",
     "text": [
      "importing Jupyter notebook from Utils.ipynb\n"
     ]
    }
   ],
   "source": [
    "import import_ipynb\n",
    "import tensorflow as tf\n",
    "from tensorflow.keras import Model, Sequential\n",
    "from tensorflow.keras.layers import Dense, Dropout\n",
    "from tensorflow.keras.optimizers import Adam\n",
    "import tensorflow_probability as tfp\n",
    "import os\n",
    "import random \n",
    "\n",
    "from Utils import *\n",
    "\n",
    "# Code for this section used the following source for reference: \n",
    "# https://blog.floydhub.com/spinning-up-with-deep-reinforcement-learning/\n",
    "\n",
    "class Model():\n",
    "    \n",
    "    def __init__(self):        \n",
    "        self.model = self.create_model()\n",
    "    \n",
    "    def create_model(self):\n",
    "        model = Sequential()\n",
    "        model.add(Dense(8, activation='relu', kernel_initializer='he_normal'))\n",
    "        model.add(Dense(1, activation='sigmoid'))\n",
    "        model.compile(loss='binary_crossentropy', optimizer=Adam(lr=0.01), metrics=['accuracy'])\n",
    "        \n",
    "        return model\n",
    "    \n",
    "class backup_agent():\n",
    "    \n",
    "    def __init__(self, gamma):\n",
    "        self.gamma = gamma\n",
    "        self.model = Model().model\n",
    "        self.dims = 4\n",
    "        \n",
    "    def act(self, state):   \n",
    "        prob = self.model(np.array(state).reshape(1, self.dims), training=False)\n",
    "        action = 1 if np.random.uniform() < prob else 0        \n",
    "        \n",
    "        return action\n",
    "        \n",
    "    def train(self, states, rewards, actions):\n",
    "        r = np.array(rewards)\n",
    "        discounted_r = np.zeros_like(r)\n",
    "        running_add = 0\n",
    "        for t in reversed(range(0, r.size)):\n",
    "            if r[t] != 0: \n",
    "                running_add = 0\n",
    "            running_add = running_add * self.gamma + r[t] \n",
    "            discounted_r[t] = running_add\n",
    "        discounted_r -= np.mean(discounted_r) \n",
    "        discounted_r /= np.std(discounted_r) \n",
    "        \n",
    "        seed = random.randint(1, 1000)\n",
    "        random.Random(seed).shuffle(discounted_r)\n",
    "        random.Random(seed).shuffle(rewards)\n",
    "        random.Random(seed).shuffle(actions)\n",
    "                \n",
    "        x_train = np.array(states).reshape(len(actions), self.dims)\n",
    "        y_train = np.array(actions).reshape(len(actions), 1)\n",
    "        self.model.fit(x_train, y=y_train,\n",
    "                       verbose=1,\n",
    "                       sample_weight=discounted_r)     \n",
    "        \n",
    "            \n",
    "    def save_model(self, name):\n",
    "        self.model.save_weights(name)\n",
    "        \n",
    "    def load_model(self, name):\n",
    "        if os.path.isfile(name):\n",
    "            print('Model Loaded')\n",
    "            self.model.load_weights(name)\n",
    "    "
   ]
  },
  {
   "cell_type": "code",
   "execution_count": null,
   "metadata": {},
   "outputs": [],
   "source": []
  }
 ],
 "metadata": {
  "kernelspec": {
   "display_name": "Python 3",
   "language": "python",
   "name": "python3"
  },
  "language_info": {
   "codemirror_mode": {
    "name": "ipython",
    "version": 3
   },
   "file_extension": ".py",
   "mimetype": "text/x-python",
   "name": "python",
   "nbconvert_exporter": "python",
   "pygments_lexer": "ipython3",
   "version": "3.8.5"
  }
 },
 "nbformat": 4,
 "nbformat_minor": 4
}
