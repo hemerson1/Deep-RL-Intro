{
 "cells": [
  {
   "cell_type": "code",
   "execution_count": null,
   "metadata": {},
   "outputs": [],
   "source": [
    "# The Policy gradient model"
   ]
  },
  {
   "cell_type": "code",
   "execution_count": 4,
   "metadata": {},
   "outputs": [],
   "source": [
    "import tensorflow as tf\n",
    "from tensorflow.keras import Model\n",
    "from tensorflow.keras.layers import Dense \n",
    "from tensorflow.keras.optimizers import Adam\n",
    "from tensorflow.keras.models import load_model\n",
    "from tensorflow.keras.initializers import HeNormal, GlorotNormal\n",
    "import tensorflow_probability as tfp\n",
    "\n",
    "# Code for this section used the following source for reference: \n",
    "# https://github.com/abhisheksuran/Reinforcement_Learning/blob/master/Reinforce_(PG).ipynb \n",
    "\n",
    "class Model(Model):\n",
    "    \n",
    "    def __init__(self):        \n",
    "        super(Model, self).__init__()\n",
    "        self.d1 = Dense(100, activation='relu', kernel_initializer=HeNormal(seed=2))\n",
    "        self.d2 = Dense(25, activation='relu', kernel_initializer=HeNormal(seed=2))\n",
    "        self.d3 = Dense(2, activation='softmax', kernel_initializer=GlorotNormal(seed=2))\n",
    "        \n",
    "    def call(self, x):\n",
    "        x = self.d1(x)\n",
    "        x = self.d2(x)\n",
    "        x = self.d3(x)\n",
    "        return x\n",
    "\n",
    "    \n",
    "class agent():\n",
    "    \n",
    "    def __init__(self):\n",
    "        self.model = Model()\n",
    "        self.opt = Adam(learning_rate=0.001)\n",
    "        self.gamma = 1\n",
    "    \n",
    "    def act(self, state):\n",
    "        \n",
    "        prob = self.model(state)\n",
    "        dist = tfp.distributions.Categorical(probs=prob, dtype=tf.float32)\n",
    "        action = dist.sample()\n",
    "        \n",
    "        return int(action.numpy()[0])\n",
    "    \n",
    "    def a_loss(self, prob, action, reward):\n",
    "        dist = tfp.distributions.Categorical(probs=prob, dtype=tf.float32)\n",
    "        log_prob = dist.log_prob(action)\n",
    "        loss = -log_prob * reward\n",
    "        \n",
    "        return loss\n",
    "    \n",
    "    def train(self, states, rewards, actions):\n",
    "        sum_reward = 0\n",
    "        discount_rewards = []\n",
    "        rewards.reverse()\n",
    "        \n",
    "        for r in rewards:\n",
    "            sum_reward = r + self.gamma * sum_reward \n",
    "            discount_rewards.append(sum_reward)\n",
    "            discount_rewards.reverse()\n",
    "        \n",
    "            for state, reward, action in zip(states, discount_rewards, actions):\n",
    "                with tf.GradientTape() as tape:\n",
    "                    p = self.model(state, training=True)\n",
    "                    loss = self.a_loss(p, action, reward)\n",
    "                    \n",
    "                grads = tape.gradient(loss, self.model.trainable_variables)\n",
    "                self.opt.apply_gradients(zip(grads, self.model.trainable_variables)) \n",
    "    "
   ]
  }
 ],
 "metadata": {
  "kernelspec": {
   "display_name": "Python 3",
   "language": "python",
   "name": "python3"
  },
  "language_info": {
   "codemirror_mode": {
    "name": "ipython",
    "version": 3
   },
   "file_extension": ".py",
   "mimetype": "text/x-python",
   "name": "python",
   "nbconvert_exporter": "python",
   "pygments_lexer": "ipython3",
   "version": "3.8.5"
  }
 },
 "nbformat": 4,
 "nbformat_minor": 4
}
