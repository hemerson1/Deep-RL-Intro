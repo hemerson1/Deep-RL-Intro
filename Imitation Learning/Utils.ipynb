{
 "cells": [
  {
   "cell_type": "code",
   "execution_count": null,
   "metadata": {},
   "outputs": [],
   "source": [
    "# Extra functions for Behaviour Cloning"
   ]
  },
  {
   "cell_type": "code",
   "execution_count": 13,
   "metadata": {},
   "outputs": [],
   "source": [
    "import numpy as np\n",
    "from sklearn.preprocessing import StandardScaler\n",
    "\n",
    "# Processing of the state\n",
    "def process_states(inputs):\n",
    "    \n",
    "    # convert dictionary to a list\n",
    "    list_inputs = []\n",
    "    for item in inputs:    \n",
    "        form_inputs = []        \n",
    "        for key, value in item.items():\n",
    "            temp = [value]\n",
    "            form_inputs.append(temp) \n",
    "        list_inputs.append(form_inputs)    \n",
    "    inputs = np.array(list_inputs).reshape(4, len(list_inputs))\n",
    "    \n",
    "    # Standardise the dataset\n",
    "    # Reshape functions are used to ensure the standardisation takes place on the correct axis\n",
    "    scaler = StandardScaler()\n",
    "    X = scaler.fit_transform(inputs)\n",
    "    \n",
    "    return X\n",
    "\n",
    "# acts as an expert policy maker \n",
    "def get_teacher_action(state):\n",
    "    \n",
    "    diff = state[\"player_x\"] - state[\"fruit_x\"]\n",
    "    threshold = 5\n",
    "    \n",
    "    if (diff + 30) > 0 and abs(diff) > threshold:\n",
    "        return 'left'\n",
    "    elif (diff + 30) < 0 and abs(diff) > threshold:\n",
    "        return 'right'\n",
    "    else:\n",
    "        return None\n",
    "        \n",
    "    \n",
    "    \n"
   ]
  }
 ],
 "metadata": {
  "kernelspec": {
   "display_name": "Python 3",
   "language": "python",
   "name": "python3"
  },
  "language_info": {
   "codemirror_mode": {
    "name": "ipython",
    "version": 3
   },
   "file_extension": ".py",
   "mimetype": "text/x-python",
   "name": "python",
   "nbconvert_exporter": "python",
   "pygments_lexer": "ipython3",
   "version": "3.8.5"
  }
 },
 "nbformat": 4,
 "nbformat_minor": 4
}
